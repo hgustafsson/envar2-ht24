{
 "cells": [
  {
   "cell_type": "markdown",
   "metadata": {},
   "source": [
    "# Uppgift 0"
   ]
  },
  {
   "cell_type": "code",
   "execution_count": null,
   "metadata": {},
   "outputs": [],
   "source": [
    "# Att importera såhär är egentligen inte rekommenderat för Python, men det blir närmast MATLAB och instruktionerna\n",
    "from numpy import *\n",
    "from matplotlib.pyplot import *"
   ]
  },
  {
   "cell_type": "code",
   "execution_count": null,
   "metadata": {},
   "outputs": [],
   "source": [
    "def riemann(f, a, b, n):\n",
    "    if n % 2 == 0:\n",
    "        raise ValueError(\"n borde vara uddda\")\n",
    "\n",
    "    xvalues = linspace(a,b,n)\n",
    "    yvalues = f(xvalues)\n",
    "\n",
    "    N = n-1\n",
    "    h = (b-a) / N\n",
    "    \n",
    "    result = 0\n",
    "    for i in range(N):\n",
    "        result = result + h * yvalues[i]\n",
    "\n",
    "    return result"
   ]
  },
  {
   "cell_type": "code",
   "execution_count": null,
   "metadata": {},
   "outputs": [],
   "source": [
    "f = lambda x: sin(x)\n",
    "a = 0\n",
    "b = pi/2\n",
    "exact_answer = 1"
   ]
  },
  {
   "cell_type": "code",
   "execution_count": null,
   "metadata": {},
   "outputs": [],
   "source": [
    "riemann(f, a, b, 11)"
   ]
  },
  {
   "cell_type": "code",
   "execution_count": null,
   "metadata": {},
   "outputs": [],
   "source": [
    "nvalues = array([11, 51, 101, 501, 1001])\n",
    "\n",
    "riemann_values = [riemann(f, a, b, n) for n in nvalues]\n",
    "hvalues = (b-a) / (nvalues-1)\n",
    "\n",
    "plot(hvalues, riemann_values, \"*-\")\n",
    "xlabel(\"Intervallstorlek\")\n",
    "ylabel(\"Upskattning av integralen\")\n",
    "grid()\n",
    "\n",
    "axhline(exact_answer, color = \"red\")\n",
    "ylim([0.9, 1.1])\n",
    "\n",
    "fig = gcf()\n",
    "fig.set_size_inches(7,4)\n",
    "\n",
    "fig.savefig(\"uppg0.pdf\")\n",
    "\n",
    "show()"
   ]
  },
  {
   "cell_type": "markdown",
   "metadata": {},
   "source": [
    "# Funktioner för uppgift 2"
   ]
  },
  {
   "cell_type": "code",
   "execution_count": null,
   "metadata": {},
   "outputs": [],
   "source": [
    "def sign3(k):\n",
    "    if k % 3 == 0:\n",
    "        return 1\n",
    "    elif k % 3 == 1:\n",
    "        return -1\n",
    "    else:\n",
    "        return 0"
   ]
  },
  {
   "cell_type": "code",
   "execution_count": null,
   "metadata": {},
   "outputs": [],
   "source": [
    "def P(r, n, x):\n",
    "    result = 0\n",
    "    for k in range(n+1):\n",
    "        result = result + sign3(k) * (-x/r)**k\n",
    "    return result"
   ]
  }
 ],
 "metadata": {
  "kernelspec": {
   "display_name": "Python 3 (ipykernel)",
   "language": "python",
   "name": "python3"
  },
  "language_info": {
   "codemirror_mode": {
    "name": "ipython",
    "version": 3
   },
   "file_extension": ".py",
   "mimetype": "text/x-python",
   "name": "python",
   "nbconvert_exporter": "python",
   "pygments_lexer": "ipython3",
   "version": "3.12.6"
  }
 },
 "nbformat": 4,
 "nbformat_minor": 4
}
